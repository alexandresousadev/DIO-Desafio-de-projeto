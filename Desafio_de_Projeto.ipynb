{
  "nbformat": 4,
  "nbformat_minor": 0,
  "metadata": {
    "colab": {
      "provenance": []
    },
    "kernelspec": {
      "name": "python3",
      "display_name": "Python 3"
    },
    "language_info": {
      "name": "python"
    }
  },
  "cells": [
    {
      "cell_type": "code",
      "execution_count": null,
      "metadata": {
        "id": "qEO9ZDrVlnCl"
      },
      "outputs": [],
      "source": [
        "from datetime import date\n",
        "\n",
        "menu = \"\"\"\n",
        "\n",
        "[d] Depositar\n",
        "[s] Sacar\n",
        "[e] Extrato\n",
        "[q] Sair\n",
        "\n",
        "=> \"\"\"\n",
        "\n",
        "saldo = 0\n",
        "soma_saques = 0\n",
        "extrato = \"\"\n",
        "numero_saques = 0\n",
        "limite_valor_diario_saque = 1500\n",
        "\n",
        "while True:\n",
        "    opcao = input(menu)\n",
        "\n",
        "    if opcao == \"d\":\n",
        "        valor = float(input(\"Informe o valor do depósito: \"))\n",
        "\n",
        "        if valor > 0:\n",
        "            saldo += valor\n",
        "            extrato += f\"Depósito: R$ {valor:.2f} {date.today()}\\n\"\n",
        "\n",
        "        else:\n",
        "            print(\"Operação falhou! O valor informado é invalido.\")\n",
        "\n",
        "    elif opcao == \"s\":\n",
        "        valor = float(input(\"Informe o valor para saque\"))\n",
        "\n",
        "        excedeu_saldo = valor > saldo\n",
        "\n",
        "        excedeu_valor_diario = valor > limite_valor_diario_saque\n",
        "\n",
        "        excedeu_saques = (soma_saques + valor) >= limite_valor_diario_saque\n",
        "\n",
        "        if excedeu_saldo:\n",
        "            print(\"Operação falhou! Você não tem saldo o suficiente.\")\n",
        "\n",
        "        elif excedeu_valor_diario:\n",
        "            print(\"Operação falhou! Valor total do saque é maior que o limite diário.\")\n",
        "\n",
        "        elif excedeu_saques:\n",
        "            print(\"Operação falhou! Valor total de saques excedido.\")\n",
        "\n",
        "        elif valor > 0:\n",
        "            saldo -= valor\n",
        "            extrato += f\"Saque: R$ {valor:.2f} {date.today()}\\n\"\n",
        "            soma_saques += valor\n",
        "\n",
        "        else:\n",
        "            print(\"Operação falhou! O valor informado é invalido.\")\n",
        "\n",
        "    elif opcao == \"e\":\n",
        "        print(\"\\n================== EXTRATO ==================\")\n",
        "        print(\"Não foram realizadas movimentações\" if not extrato else extrato)\n",
        "        print(f\"\\nSaldo: R$ {saldo:.2f}\")\n",
        "        print(\"===============================================\")\n",
        "\n",
        "    elif opcao == \"q\":\n",
        "        break\n",
        "    \n",
        "    else:\n",
        "        print(\"Operação invalidade, por favor selecione novamente a operação desejada\")\n"
      ]
    }
  ]
}